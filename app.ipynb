{
 "cells": [
  {
   "cell_type": "code",
   "execution_count": null,
   "id": "f006a472",
   "metadata": {},
   "outputs": [],
   "source": [
    "# Voila Web App\n",
    "\n",
    "## A website built out of a Jupyter notebook using Voila"
   ]
  },
  {
   "cell_type": "code",
   "execution_count": null,
   "id": "b21e4a1e",
   "metadata": {},
   "outputs": [],
   "source": [
    "import numpy as np\n",
    "import matplotlib.pyplot as plt\n",
    "from ipywidgets import interactive\n",
    "%matplotlib inline"
   ]
  },
  {
   "cell_type": "code",
   "execution_count": 1,
   "id": "ba9fe19c",
   "metadata": {
    "ExecuteTime": {
     "end_time": "2021-09-16T17:33:20.554905Z",
     "start_time": "2021-09-16T17:33:20.070318Z"
    }
   },
   "outputs": [],
   "source": [
    "import telegram\n",
    "import pandas as pd\n",
    "from selenium import webdriver\n",
    "import numpy as np\n",
    "import schedule\n",
    "import datetime\n",
    "import os\n",
    "from time import sleep"
   ]
  },
  {
   "cell_type": "code",
   "execution_count": 2,
   "id": "1dbaf1d3",
   "metadata": {
    "ExecuteTime": {
     "end_time": "2021-09-16T17:33:20.657860Z",
     "start_time": "2021-09-16T17:33:20.573574Z"
    }
   },
   "outputs": [],
   "source": [
    "from webdriver_manager.chrome import ChromeDriverManager"
   ]
  },
  {
   "cell_type": "code",
   "execution_count": 3,
   "id": "8a8409e8",
   "metadata": {
    "ExecuteTime": {
     "end_time": "2021-09-16T17:33:20.671088Z",
     "start_time": "2021-09-16T17:33:20.662323Z"
    }
   },
   "outputs": [],
   "source": [
    "from selenium.webdriver.chrome.options import Options"
   ]
  },
  {
   "cell_type": "code",
   "execution_count": 4,
   "id": "ed34725f",
   "metadata": {
    "ExecuteTime": {
     "end_time": "2021-09-16T17:33:20.872475Z",
     "start_time": "2021-09-16T17:33:20.866150Z"
    }
   },
   "outputs": [],
   "source": [
    "#options = Options()\n",
    "#options.binary_location = \"/Applications/Brave Browser.app/Contents/MacOS/Brave Browser\"\n",
    "#driver = webdriver.Chrome(chrome_options = options, executable_path=r'/Users/sumitsingh/Desktop/chromedriver')\n",
    "#driver.get('http://google.com/')\n",
    "#print(\"Chrome Browser Invoked\")\n",
    "#driver.quit()"
   ]
  },
  {
   "cell_type": "code",
   "execution_count": 5,
   "id": "3a330cfa",
   "metadata": {
    "ExecuteTime": {
     "end_time": "2021-09-16T17:33:21.128111Z",
     "start_time": "2021-09-16T17:33:21.121457Z"
    }
   },
   "outputs": [],
   "source": [
    "bot_token = '1982846194:AAFixZi2V9l3poBQQmSMm4FZ9y-mFTfryYA'\n",
    "group_id = '@alert_nd_group'\n",
    "bot = telegram.Bot(token=bot_token)"
   ]
  },
  {
   "cell_type": "code",
   "execution_count": 6,
   "id": "5acee5ea",
   "metadata": {
    "ExecuteTime": {
     "end_time": "2021-09-16T17:33:21.403272Z",
     "start_time": "2021-09-16T17:33:21.394245Z"
    }
   },
   "outputs": [],
   "source": [
    "url = 'https://chartink.com/screener/sumit-test-1-inclusive'"
   ]
  },
  {
   "cell_type": "code",
   "execution_count": 7,
   "id": "448be25e",
   "metadata": {
    "ExecuteTime": {
     "end_time": "2021-09-16T17:33:22.119572Z",
     "start_time": "2021-09-16T17:33:22.113088Z"
    }
   },
   "outputs": [],
   "source": [
    "def get_screened_stocks(url):\n",
    "\n",
    "    options = Options()\n",
    "    options.binary_location = \"/Applications/Brave Browser.app/Contents/MacOS/Brave Browser\"\n",
    "    driver = webdriver.Chrome(chrome_options = options, executable_path=r'/Users/sumitsingh/Desktop/chromedriver')    \n",
    "    driver.get(url)\n",
    "    table = pd.read_html(driver.find_element_by_xpath('//*[@id=\"DataTables_Table_0\"]').get_attribute('outerHTML'))\n",
    "    driver.close()\n",
    "    return table[0]"
   ]
  },
  {
   "cell_type": "code",
   "execution_count": 8,
   "id": "c54bebf3",
   "metadata": {
    "ExecuteTime": {
     "end_time": "2021-09-16T17:33:32.148521Z",
     "start_time": "2021-09-16T17:33:22.684296Z"
    }
   },
   "outputs": [
    {
     "name": "stderr",
     "output_type": "stream",
     "text": [
      "/var/folders/2g/qk_zllvd453cb3lmn3fl2tb00000gn/T/ipykernel_63760/3096846670.py:5: DeprecationWarning: use options instead of chrome_options\n",
      "  driver = webdriver.Chrome(chrome_options = options, executable_path=r'/Users/sumitsingh/Desktop/chromedriver')\n"
     ]
    }
   ],
   "source": [
    "kk = get_screened_stocks(url)"
   ]
  },
  {
   "cell_type": "code",
   "execution_count": null,
   "id": "461177f0",
   "metadata": {
    "ExecuteTime": {
     "end_time": "2021-09-16T17:26:46.812361Z",
     "start_time": "2021-09-16T17:26:46.796250Z"
    }
   },
   "outputs": [],
   "source": [
    "kk.sort_values(by)"
   ]
  },
  {
   "cell_type": "code",
   "execution_count": 9,
   "id": "700126f7",
   "metadata": {
    "ExecuteTime": {
     "end_time": "2021-09-16T17:33:37.435053Z",
     "start_time": "2021-09-16T17:33:37.423441Z"
    }
   },
   "outputs": [],
   "source": [
    "def job():\n",
    "        screened_stocks = get_screened_stocks(url)\n",
    "        screened_stocks.sort_values(by='Volume', ascending=0,inplace=True)\n",
    "        screened_stocks_list = list(screened_stocks['Symbol'])\n",
    "        bot.send_message(chat_id=group_id,text=f'HIKKAKE: {screened_stocks_list}')"
   ]
  },
  {
   "cell_type": "code",
   "execution_count": null,
   "id": "33f731af",
   "metadata": {
    "ExecuteTime": {
     "end_time": "2021-09-16T17:28:34.255293Z",
     "start_time": "2021-09-16T17:28:34.247684Z"
    }
   },
   "outputs": [],
   "source": [
    "def job():\n",
    "    \n",
    "    if os.path.isfile(f'screened_stocks_{datetime.date.today()}.csv'):\n",
    "\n",
    "        earlier_screened_stocks = pd.read_csv(f'screened_stocks_{datetime.date.today()}.csv')\n",
    "        earlier_screened_stocks_list = list(earlier_screened_stocks['Symbol'])\n",
    "\n",
    "        #again scan for screened stocks at sometime if the file .csv of todays date already exists\n",
    "        screened_stocks = get_screened_stocks(url)\n",
    "        screened_stocks.sort_values(by='Volume', ascending=0,inplace=True)\n",
    "        screened_stocks_list = list(screened_stocks['Symbol'])\n",
    "\n",
    "        new_screened_stocks_list = []\n",
    "        for stock in screened_stocks_list:\n",
    "            if stock not in earlier_screened_stocks_list:\n",
    "                new_screened_stocks_list.append(stock)\n",
    "\n",
    "        for stock in new_screened_stocks_list:\n",
    "                bot.send_message(chat_id=group_id,text=f'HIKKAKE: {stock}')\n",
    "                \n",
    "        screened_stocks = pd.concat([earlier_screened_stocks,screened_stocks],axis=0)\n",
    "        screened_stocks = screened_stocks.drop_duplicates(subset=['Symbol'])\n",
    "        screened_stocks.to_csv(f'screened_stocks_{datetime.date.today()}.csv',index=False)\n",
    "\n",
    "    else:\n",
    "        screened_stocks = get_screened_stocks(url)\n",
    "        screened_stocks.sort_values(by='Volume', ascending=0,inplace=True)\n",
    "        screened_stocks_list = list(screened_stocks['Symbol'])\n",
    "        screened_stocks.to_csv(f'screened_stocks_{datetime.date.today()}.csv',index=False)\n",
    "\n",
    "        for stock in screened_stocks_list:\n",
    "                bot.send_message(chat_id=group_id,text=f'HIKKAKE: {stock}')"
   ]
  },
  {
   "cell_type": "code",
   "execution_count": 14,
   "id": "d9b6305e",
   "metadata": {
    "ExecuteTime": {
     "end_time": "2021-09-16T17:36:09.529752Z",
     "start_time": "2021-09-16T17:36:06.000169Z"
    }
   },
   "outputs": [
    {
     "ename": "KeyboardInterrupt",
     "evalue": "",
     "output_type": "error",
     "traceback": [
      "\u001b[0;31m---------------------------------------------------------------------------\u001b[0m",
      "\u001b[0;31mKeyboardInterrupt\u001b[0m                         Traceback (most recent call last)",
      "\u001b[0;32m/var/folders/2g/qk_zllvd453cb3lmn3fl2tb00000gn/T/ipykernel_63760/3843042453.py\u001b[0m in \u001b[0;36m<module>\u001b[0;34m\u001b[0m\n\u001b[1;32m     14\u001b[0m         \u001b[0;32mwhile\u001b[0m \u001b[0;32mTrue\u001b[0m\u001b[0;34m:\u001b[0m\u001b[0;34m\u001b[0m\u001b[0;34m\u001b[0m\u001b[0m\n\u001b[1;32m     15\u001b[0m             \u001b[0mschedule\u001b[0m\u001b[0;34m.\u001b[0m\u001b[0mrun_pending\u001b[0m\u001b[0;34m(\u001b[0m\u001b[0;34m)\u001b[0m\u001b[0;34m\u001b[0m\u001b[0;34m\u001b[0m\u001b[0m\n\u001b[0;32m---> 16\u001b[0;31m             \u001b[0msleep\u001b[0m\u001b[0;34m(\u001b[0m\u001b[0;36m14\u001b[0m\u001b[0;34m*\u001b[0m\u001b[0;36m60\u001b[0m\u001b[0;34m)\u001b[0m\u001b[0;34m\u001b[0m\u001b[0;34m\u001b[0m\u001b[0m\n\u001b[0m\u001b[1;32m     17\u001b[0m \u001b[0;34m\u001b[0m\u001b[0m\n\u001b[1;32m     18\u001b[0m     \u001b[0;32melse\u001b[0m\u001b[0;34m:\u001b[0m\u001b[0;34m\u001b[0m\u001b[0;34m\u001b[0m\u001b[0m\n",
      "\u001b[0;31mKeyboardInterrupt\u001b[0m: "
     ]
    }
   ],
   "source": [
    "while True:\n",
    "    \n",
    "    if (datetime.date.today().weekday() != 6) & (datetime.date.today().weekday() != 5):\n",
    "\n",
    "        hours = [9,10,11,12,13,14,15,23]\n",
    "        minutes = [0,15,30,45,4]\n",
    "\n",
    "        for hour in hours:\n",
    "            for minute in minutes:\n",
    "                schedule_time = datetime.time(hour,minute)\n",
    "                if (schedule_time >= datetime.time(9,15)) & (schedule_time <= datetime.time(15,40)):\n",
    "                    schedule.every().day.at(str(schedule_time)).do(job)\n",
    "\n",
    "        while True:\n",
    "            schedule.run_pending()\n",
    "            sleep(14*60)\n",
    "\n",
    "    else:\n",
    "\n",
    "        now_datetime = datetime.datetime.now()\n",
    "        next_datetime = datetime.datetime.combine(datetime.date(now_datetime.year,now_datetime.month,now_datetime.day + 1),datetime.time(9,15))\n",
    "        sleep((next_datetime - now_datetime).seconds)"
   ]
  },
  {
   "cell_type": "code",
   "execution_count": 12,
   "id": "11f8278d",
   "metadata": {
    "ExecuteTime": {
     "end_time": "2021-09-16T17:34:58.389240Z",
     "start_time": "2021-09-16T17:34:58.381417Z"
    }
   },
   "outputs": [],
   "source": [
    "sleep?"
   ]
  },
  {
   "cell_type": "code",
   "execution_count": null,
   "id": "3b63d241",
   "metadata": {},
   "outputs": [],
   "source": []
  }
 ],
 "metadata": {
  "kernelspec": {
   "display_name": "Python 3 (ipykernel)",
   "language": "python",
   "name": "python3"
  },
  "language_info": {
   "codemirror_mode": {
    "name": "ipython",
    "version": 3
   },
   "file_extension": ".py",
   "mimetype": "text/x-python",
   "name": "python",
   "nbconvert_exporter": "python",
   "pygments_lexer": "ipython3",
   "version": "3.9.5"
  }
 },
 "nbformat": 4,
 "nbformat_minor": 5
}
